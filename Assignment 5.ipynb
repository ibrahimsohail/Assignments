{
 "cells": [
  {
   "cell_type": "code",
   "execution_count": null,
   "metadata": {},
   "outputs": [],
   "source": [
    "def factorial(n):\n",
    "    if n == 0:\n",
    "        return 1\n",
    "    else:\n",
    "        return n * factorial(n-1)\n",
    "\n",
    "n = int(input(\"Enter a number to calculate a factorial \"))  \n",
    "print(factorial(n))"
   ]
  },
  {
   "cell_type": "code",
   "execution_count": null,
   "metadata": {},
   "outputs": [],
   "source": [
    "string=input(\"Enter string to calculate UPPER CASE and lower case: \")\n",
    "count1=0\n",
    "count2=0\n",
    "for i in string:\n",
    "    if(i.isupper()):\n",
    "          count1=count1+1\n",
    "    elif(i.islower()):\n",
    "          count2=count2+1\n",
    "print(\"No. of UPPER CASE LETTERS IS: \")\n",
    "print(count1)\n",
    "print(\"No. of lower case letters is: \")\n",
    "print(count2)     "
   ]
  },
  {
   "cell_type": "code",
   "execution_count": null,
   "metadata": {},
   "outputs": [],
   "source": [
    "list1 = [21,34,76,24,27,84,39,17,35,17,94,90,45,67,35,66]\n",
    "\n",
    "for num in list1:\n",
    "    if num %2 == 0:\n",
    "        print(num,end = \" \")"
   ]
  },
  {
   "cell_type": "code",
   "execution_count": null,
   "metadata": {},
   "outputs": [],
   "source": [
    "string = input(\"Please enter your own String : \")\n",
    "\n",
    "if(string == string[:: - 1]):\n",
    "    print(\"This is a Palindrome\")\n",
    "else:\n",
    "    print(\"This is Not a Palindrome\")"
   ]
  },
  {
   "cell_type": "code",
   "execution_count": null,
   "metadata": {},
   "outputs": [],
   "source": [
    "num = int(input(\"Enter number\"))\n",
    "if num > 1:\n",
    "    for i in range(2,num//2):\n",
    "        if (num % i) == 0:\n",
    "            \n",
    "            print(num, \"Is not a prime number\")\n",
    "            break\n",
    "    else:\n",
    "            print(num, \"IS a prime number\")\n",
    "            \n",
    "else:\n",
    "    print(num, \"Is not a prime number\")"
   ]
  }
 ],
 "metadata": {
  "kernelspec": {
   "display_name": "Python 3",
   "language": "python",
   "name": "python3"
  },
  "language_info": {
   "codemirror_mode": {
    "name": "ipython",
    "version": 3
   },
   "file_extension": ".py",
   "mimetype": "text/x-python",
   "name": "python",
   "nbconvert_exporter": "python",
   "pygments_lexer": "ipython3",
   "version": "3.7.4"
  }
 },
 "nbformat": 4,
 "nbformat_minor": 2
}
