{
 "cells": [
  {
   "cell_type": "code",
   "execution_count": 12,
   "metadata": {},
   "outputs": [
    {
     "name": "stdout",
     "output_type": "stream",
     "text": [
      "The customer's First name is Muhammad\n",
      "The customer's Last name is Sohail\n",
      "The customer's Age is 6\n",
      "The customer's City is Karachi\n"
     ]
    }
   ],
   "source": [
    "person = {\n",
    "          \"First name\":\"Muhammad\",\n",
    "          \"Last name\":\"Sohail\",\n",
    "          \"Age\":\"6\",\n",
    "          \"City\":\"Karachi\"\n",
    "}\n",
    "person[\"Address\"] = \"A278\"\n",
    "del person [\"Address\"]\n",
    "for each_key, each_value in person.items():\n",
    "   print(\"The customer's \" + each_key + \" is \" +\n",
    "each_value)"
   ]
  },
  {
   "cell_type": "code",
   "execution_count": 8,
   "metadata": {},
   "outputs": [
    {
     "name": "stdout",
     "output_type": "stream",
     "text": [
      "The City name is KARACHI\n",
      "The Country name is Pakistan\n",
      "The Approximate population is 14.91 Million\n",
      "The Fact is It is the biggest city of Pakistan\n",
      "The City name is TOKYO\n",
      "The Country name is Japan\n",
      "The Approximate population is 9.273 Million\n",
      "The Fact is It is the capital of Japan\n",
      "The City name is NEW YORK\n",
      "The Country name is United State\n",
      "The Approximate population is 8.623\n",
      "The Fact is It is the largest city of United States\n"
     ]
    }
   ],
   "source": [
    "cities = [\n",
    "{         \n",
    "                \"City name\":\"KARACHI\",\n",
    "                \"Country name\":\"Pakistan\",\n",
    "                \"Approximate population\":\"14.91 Million\",\n",
    "                \"Fact\":\"It is the biggest city of Pakistan\",\n",
    "},\n",
    "{        \n",
    "                 \"City name\":\"TOKYO\",\n",
    "                 \"Country name\":\"Japan\",\n",
    "                 \"Approximate population\":\"9.273 Million\",\n",
    "                 \"Fact\":\"It is the capital of Japan\",\n",
    "},\n",
    "{       \n",
    "                 \"City name\":\"NEW YORK\",\n",
    "                 \"Country name\":\"United State\",\n",
    "                 \"Approximate population\":\"8.623\",\n",
    "                 \"Fact\":\"It is the largest city of United States\",\n",
    "},\n",
    "]\n",
    "for each_key, each_value in cities[0].items():\n",
    "   print(\"The \" + each_key + \" is \" + each_value)\n",
    "for each_key, each_value in cities[1].items():\n",
    "   print(\"The \" + each_key + \" is \" + each_value)\n",
    "for each_key, each_value in cities[2].items():\n",
    "   print(\"The \" + each_key + \" is \" + each_value)"
   ]
  },
  {
   "cell_type": "code",
   "execution_count": 1,
   "metadata": {},
   "outputs": [
    {
     "name": "stdout",
     "output_type": "stream",
     "text": [
      "Enter your age56\n",
      "Your theater ticket is for $15\n"
     ]
    }
   ],
   "source": [
    "age = int(input(\"Enter your age\"))\n",
    "\n",
    "if age <=3:\n",
    "    print(\"Your theater ticket is free\")\n",
    "elif age >=4 and age <=12:\n",
    "    print(\"Your theater ticket is for $10\")\n",
    "elif age >12:\n",
    "    print(\"Your theater ticket is for $15\")"
   ]
  },
  {
   "cell_type": "code",
   "execution_count": 20,
   "metadata": {},
   "outputs": [
    {
     "name": "stdout",
     "output_type": "stream",
     "text": [
      "MY favourite book is PINOCCHIO\n"
     ]
    }
   ],
   "source": [
    "def book(adventure):\n",
    "    print(\"MY favourite book is PINOCCHIO\")\n",
    "book(\"hello\")"
   ]
  },
  {
   "cell_type": "code",
   "execution_count": 33,
   "metadata": {},
   "outputs": [
    {
     "name": "stdout",
     "output_type": "stream",
     "text": [
      "Enter: 23\n",
      "Try lower\n"
     ]
    }
   ],
   "source": [
    "import random\n",
    "\n",
    "num = random.randint(1,30)\n",
    "\n",
    "i = int(input(\"Enter: \"))\n",
    "\n",
    "if i < num:\n",
    "    print(\"Try higher\")\n",
    "    \n",
    "elif i > num:\n",
    "    print(\"Try lower\")\n",
    "\n",
    "elif i == num:\n",
    "    print(\"You won\")"
   ]
  },
  {
   "cell_type": "code",
   "execution_count": null,
   "metadata": {},
   "outputs": [],
   "source": []
  }
 ],
 "metadata": {
  "kernelspec": {
   "display_name": "Python 3",
   "language": "python",
   "name": "python3"
  },
  "language_info": {
   "codemirror_mode": {
    "name": "ipython",
    "version": 3
   },
   "file_extension": ".py",
   "mimetype": "text/x-python",
   "name": "python",
   "nbconvert_exporter": "python",
   "pygments_lexer": "ipython3",
   "version": "3.7.4"
  }
 },
 "nbformat": 4,
 "nbformat_minor": 2
}
