{
 "cells": [
  {
   "cell_type": "code",
   "execution_count": 30,
   "metadata": {},
   "outputs": [
    {
     "name": "stdout",
     "output_type": "stream",
     "text": [
      "Bugatti Chiron Super Sport\n",
      "red\n",
      "304 mph\n",
      "Ibrahim\n",
      "ATM 903\n",
      "\n",
      "\n",
      "Hennessey Venom F5\n",
      "white\n",
      "301 mph\n",
      "Muhammad\n",
      "HTR 456\n"
     ]
    }
   ],
   "source": [
    "class car():\n",
    "    def __init__(self,name,colour,speed,ownername,numplate):\n",
    "        self.name = name\n",
    "        self.colour = colour\n",
    "        self.speed = speed\n",
    "        self.ownername = ownername\n",
    "        self.numplate = numplate\n",
    "\n",
    "    def attributecar1(self):\n",
    "        print(car1.name)\n",
    "        print(car1.colour)\n",
    "        print(car1.speed)\n",
    "        print(car1.ownername)\n",
    "        print(car1.numplate)\n",
    "        print(\"\\n\")\n",
    "        \n",
    "    def attributecar2(self):\n",
    "        print(car2.name)\n",
    "        print(car2.colour)\n",
    "        print(car2.speed)\n",
    "        print(car2.ownername)\n",
    "        print(car2.numplate)\n",
    "             \n",
    "        \n",
    "car1= car(\"Bugatti Chiron Super Sport\",\"red\",\"304 mph\",\"Ibrahim\",\"ATM 903\")\n",
    "car2= car(\"Hennessey Venom F5\",\"white\",\"301 mph\",\"Muhammad\",\"HTR 456\")\n",
    "car1.attributecar1()\n",
    "car2.attributecar2()\n"
   ]
  },
  {
   "cell_type": "code",
   "execution_count": null,
   "metadata": {},
   "outputs": [],
   "source": []
  }
 ],
 "metadata": {
  "kernelspec": {
   "display_name": "Python 3",
   "language": "python",
   "name": "python3"
  },
  "language_info": {
   "codemirror_mode": {
    "name": "ipython",
    "version": 3
   },
   "file_extension": ".py",
   "mimetype": "text/x-python",
   "name": "python",
   "nbconvert_exporter": "python",
   "pygments_lexer": "ipython3",
   "version": "3.7.4"
  }
 },
 "nbformat": 4,
 "nbformat_minor": 2
}
