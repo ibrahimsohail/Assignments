{
 "cells": [
  {
   "cell_type": "code",
   "execution_count": null,
   "metadata": {},
   "outputs": [],
   "source": [
    "val1 = int(input('Enter your first value '))\n",
    "operater = input('Enter Operator')\n",
    "val2 = int(input('Enter you second value '))\n",
    "\n",
    "\n",
    "if operater == '+':                                             # The symbol \"+\" is used for plus\n",
    "    print('{} + {} = '.format(val1, val2))                      \n",
    "    print(val1 + val2)\n",
    "    \n",
    "elif operater == '-':                                           # The symbol \"-\" is used for minus       \n",
    "    print('{} - {} = '.format(val1, val2))\n",
    "    print(val1 - val2)\n",
    "    \n",
    "elif operater == '*':                                           # The symbol \"*\" is used for multiply\n",
    "    print('{} * {} = '.format(val1, val2))\n",
    "    print(val1 * val2)\n",
    "    \n",
    "elif operater == '/':                                           # The symbol \"/\" is used for divide\n",
    "    print('{} / {} = '.format(val1, val2))\n",
    "    print(val1 / val2)\n",
    "\n",
    "elif operater == '$':                                           # The symbol \"$\" is used for power\n",
    "    print('{} ** {} = '.format(val1, val2))\n",
    "    print(val1 ** val2)\n",
    "    \n",
    "else :print(\"INCORRECT INPUT PLEASE CHECK THE GIVEN INPUT AND TRY AGAIN\")"
   ]
  },
  {
   "cell_type": "code",
   "execution_count": 2,
   "metadata": {},
   "outputs": [
    {
     "ename": "SyntaxError",
     "evalue": "invalid syntax (<ipython-input-2-f39cacc17843>, line 1)",
     "output_type": "error",
     "traceback": [
      "\u001b[1;36m  File \u001b[1;32m\"<ipython-input-2-f39cacc17843>\"\u001b[1;36m, line \u001b[1;32m1\u001b[0m\n\u001b[1;33m    lst = [\"sal\":\"4\",khan\":\"5\"]\u001b[0m\n\u001b[1;37m                ^\u001b[0m\n\u001b[1;31mSyntaxError\u001b[0m\u001b[1;31m:\u001b[0m invalid syntax\n"
     ]
    }
   ],
   "source": [
    "d = { \"A\":10, \"B\":20, \"C\":43, \"D\":89}\n",
    "print(d)\n",
    "d.update({\"E\":30})\n",
    "print(d)"
   ]
  },
  {
   "cell_type": "code",
   "execution_count": null,
   "metadata": {},
   "outputs": [],
   "source": []
  }
 ],
 "metadata": {
  "kernelspec": {
   "display_name": "Python 3",
   "language": "python",
   "name": "python3"
  },
  "language_info": {
   "codemirror_mode": {
    "name": "ipython",
    "version": 3
   },
   "file_extension": ".py",
   "mimetype": "text/x-python",
   "name": "python",
   "nbconvert_exporter": "python",
   "pygments_lexer": "ipython3",
   "version": "3.7.4"
  }
 },
 "nbformat": 4,
 "nbformat_minor": 2
}
