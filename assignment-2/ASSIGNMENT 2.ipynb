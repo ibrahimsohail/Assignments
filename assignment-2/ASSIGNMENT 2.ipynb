{
 "cells": [
  {
   "cell_type": "code",
   "execution_count": null,
   "metadata": {},
   "outputs": [],
   "source": [
    "A = int(input(\"enter you English marks \"))\n",
    "B = int(input(\"enter you Science marks \"))\n",
    "C = int(input(\"enter you Maths marks \"))\n",
    "D = int(input(\"enter you Urdu marks \"))\n",
    "E = int(input(\"enter you Sst marks \"))\n",
    "F = float((A+B+C+D+E)/500*100)\n",
    "\n",
    "if F >= 85:\n",
    "    print(\"You have got A+ grade:\"+str(F))\n",
    "        \n",
    "elif F <=84 and F>= 80:\n",
    "      print(\"You have got A grade:\"+str(F))\n",
    "        \n",
    "elif F <=79 and F>= 65:\n",
    "      print(\"You have got B grade:\"+str(F))\n",
    "elif F <=64 and F>= 55:\n",
    "      print(\"You have got C grade:\"+str(F))\n",
    "elif F <=54 and F>= 45:\n",
    "      print(\"You have got D grade:\"+str(F))\n",
    "elif F <=40 and F>= 0:\n",
    "      print(\"You are FAIL:\"+str(F))"
   ]
  },
  {
   "cell_type": "code",
   "execution_count": 35,
   "metadata": {},
   "outputs": [
    {
     "name": "stdout",
     "output_type": "stream",
     "text": [
      "Enter a number: 3\n",
      "This is an odd number. \n"
     ]
    }
   ],
   "source": [
    "num = int(input(\"Enter a number: \"))\n",
    "mod = num % 2\n",
    "\n",
    "if mod > 0: print(\"This is an odd number. \")\n",
    "    \n",
    "else: print(\"This is an even number. \")"
   ]
  },
  {
   "cell_type": "code",
   "execution_count": 37,
   "metadata": {},
   "outputs": [
    {
     "name": "stdout",
     "output_type": "stream",
     "text": [
      "5\n"
     ]
    }
   ],
   "source": [
    "List = [\"me\" ,\"myfriends\",\"myself\",\"23friends\",\"-23friends\"]\n",
    "print(len(List))"
   ]
  },
  {
   "cell_type": "code",
   "execution_count": 4,
   "metadata": {},
   "outputs": [
    {
     "name": "stdout",
     "output_type": "stream",
     "text": [
      "how many numbers:5\n",
      "Enter number 3\n",
      "Sum of elements in given list is : 3\n",
      "Enter number 45\n",
      "Sum of elements in given list is : 48\n",
      "Enter number 2\n",
      "Sum of elements in given list is : 50\n",
      "Enter number 1\n",
      "Sum of elements in given list is : 51\n",
      "Enter number 4\n",
      "Sum of elements in given list is : 55\n"
     ]
    }
   ],
   "source": [
    "lst = []                                      #sum of numbers\n",
    "num = int(input(\"how many numbers:\"))\n",
    "for n in range (num):\n",
    "    numbers = int(input('Enter number '))\n",
    "    lst.append(numbers)\n",
    "    print(\"Sum of elements in given list is :\", sum(lst))"
   ]
  },
  {
   "cell_type": "code",
   "execution_count": 6,
   "metadata": {},
   "outputs": [
    {
     "name": "stdout",
     "output_type": "stream",
     "text": [
      "Enter number of elements in list:3\n",
      "Enter elements: 2\n",
      "Enter elements: 3\n",
      "Enter elements: 5\n",
      "Largest element is: 5\n"
     ]
    }
   ],
   "source": [
    "list1 = []                                               #largest number in the list\n",
    "num = int(input(\"Enter number of elements in list:\"))\n",
    "\n",
    "for i in range(1, num + 1): \n",
    "    ele = int(input(\"Enter elements: \")) \n",
    "    list1.append(ele)\n",
    "print(\"Largest element is:\", max(list1)) "
   ]
  },
  {
   "cell_type": "code",
   "execution_count": 16,
   "metadata": {},
   "outputs": [
    {
     "name": "stdout",
     "output_type": "stream",
     "text": [
      "1\n",
      "2\n",
      "4\n",
      "3\n"
     ]
    }
   ],
   "source": [
    "a = [1,2,4,3,5,8,96,35]\n",
    "\n",
    "for i in a:\n",
    "    \n",
    "    if i < 5:\n",
    "    \n",
    "         print (i)"
   ]
  }
 ],
 "metadata": {
  "kernelspec": {
   "display_name": "Python 3",
   "language": "python",
   "name": "python3"
  }
 },
 "nbformat": 4,
 "nbformat_minor": 2
}
