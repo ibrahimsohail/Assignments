{
 "cells": [
  {
   "cell_type": "code",
   "execution_count": 1,
   "metadata": {},
   "outputs": [],
   "source": [
    "val1 = int(input('Enter your first value '))\n",
    "operater = input('Enter Operator')\n",
    "val2 = int(input('Enter you second value '))\n",
    "\n",
    "\n",
    "if operater == '+':                                             # The symbol \"+\" is used for plus\n",
    "    print('{} + {} = '.format(val1, val2))                      \n",
    "    print(val1 + val2)\n",
    "    \n",
    "elif operater == '-':                                           # The symbol \"-\" is used for minus       \n",
    "    print('{} - {} = '.format(val1, val2))\n",
    "    print(val1 - val2)\n",
    "    \n",
    "elif operater == '*':                                           # The symbol \"*\" is used for multiply\n",
    "    print('{} * {} = '.format(val1, val2))\n",
    "    print(val1 * val2)\n",
    "    \n",
    "elif operater == '/':                                           # The symbol \"/\" is used for divide\n",
    "    print('{} / {} = '.format(val1, val2))\n",
    "    print(val1 / val2)\n",
    "\n",
    "elif operater == '$':                                           # The symbol \"$\" is used for power\n",
    "    print('{} ** {} = '.format(val1, val2))\n",
    "    print(val1 ** val2)\n",
    "    \n",
    "else :print(\"INCORRECT INPUT PLEASE CHECK THE GIVEN INPUT AND TRY AGAIN\")                           "
   ]
  },
  {
   "cell_type": "code",
   "execution_count": 9,
   "metadata": {},
   "outputs": [
    {
     "name": "stdout",
     "output_type": "stream",
     "text": [
      "Checking if 4 exists in list ( using set() + in) : \n",
      "Checking if p exists in list ( using sort() + bisect_left() ) : \n",
      "Element Exists\n"
     ]
    }
   ],
   "source": [
    "from bisect import bisect_left \n",
    "test_list_set = [ 1, 6, 3, 5, 3, 4 ] \n",
    "test_list_bisect = [ 1, 6, 3, 5, 3, 4 ] \n",
    "\n",
    "print(\"Checking if 4 exists in list ( using set() + in) : \") \n",
    "\n",
    "test_list_set = set(test_list_set) \n",
    "if 4 in test_list_set : \n",
    "  \n",
    " print(\"Checking if p exists in list ( using sort() + bisect_left() ) : \")\n",
    "\n",
    "test_list_bisect.sort() \n",
    "if bisect_left(test_list_bisect, 4): \n",
    "    print (\"Element Exists\") "
   ]
  },
  {
   "cell_type": "code",
   "execution_count": 10,
   "metadata": {},
   "outputs": [
    {
     "name": "stdout",
     "output_type": "stream",
     "text": [
      "{'A': 10, 'B': 20, 'C': 43, 'D': 89}\n",
      "{'A': 10, 'B': 20, 'C': 43, 'D': 89, 'E': 30}\n"
     ]
    }
   ],
   "source": [
    "d = { \"A\":10, \"B\":20, \"C\":43, \"D\":89}\n",
    "print(d)\n",
    "d.update({\"E\":30})\n",
    "print(d)"
   ]
  },
  {
   "cell_type": "code",
   "execution_count": null,
   "metadata": {},
   "outputs": [],
   "source": [
    "def returnSum(dict): \n",
    "      \n",
    "    sum = 0\n",
    "    for i in dict.values(): \n",
    "           sum = sum + i \n",
    "       \n",
    "    return sum\n",
    "dict = {'sameer': 109, 'khan':232, 'bilal':450} \n",
    "print(\"Sum :\", returnSum(dict))"
   ]
  },
  {
   "cell_type": "code",
   "execution_count": null,
   "metadata": {},
   "outputs": [],
   "source": [
    "def Repeat(x): \n",
    "    _size = len(x) \n",
    "    repeated = [] \n",
    "    for i in range(_size): \n",
    "        k = i + 1\n",
    "        for j in range(k, _size): \n",
    "            if x[i] == x[j] and x[i] not in repeated: \n",
    "                repeated.append(x[i]) \n",
    "    return repeated \n",
    "list1 = [10, 20, 30, 20, 20, 30, 40,  \n",
    "         50, -20, 60, 60, -20, -20] \n",
    "print (Repeat(list1)) "
   ]
  },
  {
   "cell_type": "code",
   "execution_count": null,
   "metadata": {},
   "outputs": [],
   "source": [
    "d = {2: 10, 8: 20, 9: 30, 5: 40, 7: 50, 6: 60}\n",
    "def is_key_present(x):\n",
    "    if x in d:\n",
    "        print('Key is present in the dictionary')\n",
    "    else:\n",
    "        print('Key is not present in the dictionary')\n",
    "is_variable_present(4)\n",
    "is_variable_present(6)"
   ]
  }
 ],
 "metadata": {
  "kernelspec": {
   "display_name": "Python 3",
   "language": "python",
   "name": "python3"
  },
  "language_info": {
   "codemirror_mode": {
    "name": "ipython",
    "version": 3
   },
   "file_extension": ".py",
   "mimetype": "text/x-python",
   "name": "python",
   "nbconvert_exporter": "python",
   "pygments_lexer": "ipython3",
   "version": "3.7.4"
  }
 },
 "nbformat": 4,
 "nbformat_minor": 2
}
